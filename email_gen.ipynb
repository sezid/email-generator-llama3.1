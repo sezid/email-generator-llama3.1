{
 "cells": [
  {
   "cell_type": "code",
   "execution_count": 1,
   "id": "b2fda709-875e-464a-ab2c-efcb2b7d6c09",
   "metadata": {},
   "outputs": [
    {
     "name": "stdout",
     "output_type": "stream",
     "text": [
      "The first person to walk on the moon was Neil Armstrong. He stepped onto the lunar surface on July 20, 1969, during the Apollo 11 mission.\n"
     ]
    }
   ],
   "source": [
    "from langchain_groq import ChatGroq\n",
    "\n",
    "llm = ChatGroq(\n",
    "    model=\"llama-3.1-70b-versatile\",\n",
    "    temperature=0,\n",
    "    max_tokens=None,\n",
    "    timeout=None,\n",
    "    max_retries=2,\n",
    "    groq_api_key='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'\n",
    ")\n",
    "\n",
    "\n",
    "response=llm.invoke(\"The first person to walk on the moon?\")\n",
    "print(response.content)"
   ]
  },
  {
   "cell_type": "code",
   "execution_count": 19,
   "id": "e04e1b37-a02d-427b-a331-8e2e76f018bd",
   "metadata": {},
   "outputs": [
    {
     "name": "stderr",
     "output_type": "stream",
     "text": [
      "C:\\Users\\saleh\\anaconda3\\envs\\work\\lib\\site-packages\\urllib3\\connectionpool.py:1064: InsecureRequestWarning: Unverified HTTPS request is being made to host 'jobs.nike.com'. Adding certificate verification is strongly advised. See: https://urllib3.readthedocs.io/en/1.26.x/advanced-usage.html#ssl-warnings\n",
      "  warnings.warn(\n"
     ]
    }
   ],
   "source": [
    "from langchain_community.document_loaders import WebBaseLoader\n",
    "\n",
    "loader = WebBaseLoader(\"https://jobs.nike.com/job/R-39013?from=job%20search%20funnel\")\n",
    "loader.session.verify = False  # Bypass SSL verification\n",
    "page=loader.load().pop().page_content\n"
   ]
  },
  {
   "cell_type": "code",
   "execution_count": 20,
   "id": "051150af-63b2-4cb6-b855-ea2f8b760776",
   "metadata": {
    "scrolled": true
   },
   "outputs": [
    {
     "name": "stdout",
     "output_type": "stream",
     "text": [
      "Apply for Senior Software Engineer\n",
      "\n",
      "Search JobsSkip navigationSearch JobsNIKE, INC. JOBSContract JobsJoin The Talent CommunityLife @ NikeOverviewBenefitsBrandsOverviewJordanConverseTeamsOverviewAdministrative SupportAdvanced InnovationAir Manufacturing InnovationAviationCommunicationsCustomer ServiceDesignDigitalFacilitiesFinance & AccountingGovernment & Public AffairsHuman ResourcesInsights & AnalyticsLegalManufacturing & EngineeringMarketingMerchandisingPlanningPrivacyProcurementProduct Creation, Development & ManagementRetail CorporateRetail StoresSalesSocial & Community ImpactSports MarketingStrategic PlanningSupply Chain, Distribution & LogisticsSustainabilityTechnologyLocationsOverviewNike WHQNike New York HQEHQ: Hilversum, The NetherlandsELC: Laakdal, BelgiumGreater China HQDiversity, Equity & InclusionOverviewMilitary InclusionDisability InclusionIndigenous InclusionInternshipsTechnologySenior Software EngineerBeaverton, OregonBecome a Part of the NIKE, Inc. TeamNIKE, Inc. does more than outfit the world’s best athletes. It is a place to explore potential, obliterate boundaries and push out the edges of what can be. The company looks for people who can grow, think, dream and create. Its culture thrives by embracing diversity and rewarding imagination. The brand seeks achievers, leaders and visionaries. At NIKE, Inc. it’s about each person bringing skills and passion to a challenging and constantly evolving game.NIKE is a technology company. From our flagship website and five-star mobile apps to developing products, managing big data and providing leading edge engineering and systems support, our teams at NIKE Global Technology exist to revolutionize the future at the confluence of tech and sport. We invest and develop advances in technology and employ the most creative people in the world, and then give them the support to constantly innovate, iterate and serve consumers more directly and personally.  Our teams are innovative, diverse, multidisciplinary and collaborative, taking technology into the future and bringing the world with it.Within the Nike Global Technology Team, the Cloud FinOps team develops products and provides services that enhance the understanding of cloud costs, drives cloud spend optimization, and maximizes the business value of the cloud.WHO WE ARE LOOKING FORWe’re looking for a senior-level Software Engineer with the skills to deliver and maintain product features for our internal cloud reporting solution. This valued team member will create backend automations to process and transform large amounts of cloud billing data across a multi-cloud ecosystem into usable reports and dashboards through API and UI interfaces. This engineer will actively partner with Product Management, colleagues in the Cloud Center of Excellence, and their Cloud FinOps teammates to prioritize backlogs and deliver maximum value and quality insights to over 1,500 internal customers.Our preferred candidate is a team-player with a passion for learning, problem solving, and taking on challenges. They will have strong skills in developing automation to simplify end-to-end processes and remove manual workflows. Attention to detail, above average verbal and written communication skills, and the ability to collaborate with fellow engineers are must-have characteristics.WHAT YOU WILL WORK ONYou will join a squad making a difference at Nike through the development, feature enhancement, and maintenance of enterprise-wide multi-cloud cost, usage, and metrics reporting products. You will participate in team/product planning sessions, share your ideas for our products and services, and help groom and prioritize our backlog.WHO YOU WILL WORK WITHYou will report to the Director of Cloud FinOps and join a small but mighty squad of developers at Nike World Headquarters in Beaverton, Oregon. You will partner with FinOps analysts, product managers, architects, Finance partners, and peer engineers to enhance the operational knowledge of customers from the C-Suite to front line engineers.As part of the Nike Global Technology Engineering Community, you will have the opportunity to participate in community sessions, engineering forums, and social networks within Nike that foster career growth. Developing knowledge of cloud cost reporting and optimization will further your career no matter what the future holds.WHAT YOU BRINGIn addition to the requirements described above, successful candidates will have the following:Bachelor’s degree in Computer Science or IT related discipline or any acceptable combination of relevant education, training, and experienceStrong abilities in Python (preferred) or similar object-oriented programming languagesIntermediate skills in JavaScript front end-web frameworks (e.g. Angular, React)Knowledge of data structures and algorithms for efficiently and effectively managing large data setsExperience using serverless data warehouses (e.g. Athena) and NoSQL databases (e.g. DynamoDB)Tangible experience creating, delivering, and documenting GraphQL and RESTful APIsCloud infrastructure development experience using public cloud providers, e.g., AWS (our preferred choice), Azure, GCPPractical understanding of infrastructure-as-code technologies (e.g., Terraform, CloudFormation, CircleCI), continuous integration & deployment (CI/CD), source control (e.g. GitHub), and build automation (e.g. Jenkins, GitHub Actions)Knowledge of Agile principles and Sprint Planning, including planning/backlog tools (e.g., JIRA)The following qualifications are preferred, but not required:Abilities to create elegant user experiencesPractical experience in cloud cost optimization techniques and best practicesKnowledge of cloud provider billing practicesA basic understanding of FinOps practicesExperience with big room planning processes such as Scaled Agile Framework (SAFe)We are committed to fostering a diverse and inclusive environment for all employees and job applicants. We offer a number of accommodations to complete our interview process including screen readers, sign language interpreters, accessible and single location for in-person interviews, closed captioning, and other reasonable modifications as needed. If you discover, as you navigate our application process, that you need assistance or an accommodation due to a disability, please complete the Candidate Accommodation Request Form.NIKE, Inc. is a growth company that looks for team members to grow with it. Nike offers a generous total rewards package, casual work environment, a diverse and inclusive culture, and an electric atmosphere for professional development. No matter the location, or the role, every Nike employee shares one galvanizing mission: To bring inspiration and innovation to every athlete* in the world.NIKE, Inc. is committed to employing a diverse workforce. Qualified applicants will receive consideration without regard to race, color, religion, sex, national origin, age, sexual orientation, gender identity, gender expression, veteran status, or disability.How We HireAt NIKE, Inc. we promise to provide a premium, inclusive, compelling and authentic candidate experience. Delivering on this promise means we allow you to be at your best — and to do that, you need to understand how the hiring process works. Transparency is key.\n",
      "\n",
      "* This overview explains our hiring process for corporate roles. Note there may be different hiring steps involved for non-corporate roles.Start nowBenefitsWhether it’s transportation or financial health, we continually invest in our employees to help them achieve greatness — inside and outside of work. All who work here should be able to realize their full potential.Employee Assistance ProgramEmployee Stock Purchase Plan (ESPP)HolidaysMedical PlanPaid Time Off (PTO)Product DiscountsSabbaticalsLearn moreGIFT CARDSPROMOTIONSFIND A STORESIGN UP FOR EMAILBECOME A MEMBERNIKE JOURNALSEND US FEEDBACKGET HELPGET HELPOrder StatusShipping and DeliveryReturnsPayment OptionsGift Cards BalanceContact UsABOUT NIKEABOUT NIKENewsCareersInvestorsPurposeSustainabilityUnited States© 2024 Nike, Inc. All Rights ReservedGuidesNike AdaptNike Air MaxNike FlyleatherNike ReactSpace HippieNike AirNike FlyEaseNike Free Nike VaporflyNike Air Force 1 Nike FlyknitNike JoyrideNike ZoomXTerms of SaleTerms of UseNike Privacy PolicyYour Privacy ChoicesCA Supply Chain Act\n"
     ]
    }
   ],
   "source": [
    "print(page)"
   ]
  },
  {
   "cell_type": "code",
   "execution_count": 21,
   "id": "d81f9179-4ea4-4243-9a9d-8e96f59481a2",
   "metadata": {},
   "outputs": [
    {
     "name": "stdout",
     "output_type": "stream",
     "text": [
      "```\n",
      "{\n",
      "  \"title\": \"Senior Software Engineer\",\n",
      "  \"minimum_qualifications\": [\n",
      "    \"Bachelor’s degree in Computer Science or IT related discipline or any acceptable combination of relevant education, training, and experience\",\n",
      "    \"Strong abilities in Python (preferred) or similar object-oriented programming languages\",\n",
      "    \"Intermediate skills in JavaScript front end-web frameworks (e.g. Angular, React)\",\n",
      "    \"Knowledge of data structures and algorithms for efficiently and effectively managing large data sets\",\n",
      "    \"Experience using serverless data warehouses (e.g. Athena) and NoSQL databases (e.g. DynamoDB)\",\n",
      "    \"Tangible experience creating, delivering, and documenting GraphQL and RESTful APIs\",\n",
      "    \"Cloud infrastructure development experience using public cloud providers, e.g., AWS (our preferred choice), Azure, GCP\",\n",
      "    \"Practical understanding of infrastructure-as-code technologies (e.g., Terraform, CloudFormation, CircleCI), continuous integration & deployment (CI/CD), source control (e.g. GitHub), and build automation (e.g. Jenkins, GitHub Actions)\",\n",
      "    \"Knowledge of Agile principles and Sprint Planning, including planning/backlog tools (e.g., JIRA)\"\n",
      "  ],\n",
      "  \"preferred_qualifications\": [\n",
      "    \"Abilities to create elegant user experiences\",\n",
      "    \"Practical experience in cloud cost optimization techniques and best practices\",\n",
      "    \"Knowledge of cloud provider billing practices\",\n",
      "    \"A basic understanding of FinOps practices\",\n",
      "    \"Experience with big room planning processes such as Scaled Agile Framework (SAFe)\"\n",
      "  ],\n",
      "  \"about\": \"NIKE, Inc. does more than outfit the world’s best athletes. It is a place to explore potential, obliterate boundaries and push out the edges of what can be. The company looks for people who can grow, think, dream and create. Its culture thrives by embracing diversity and rewarding imagination. The brand seeks achievers, leaders and visionaries. At NIKE, Inc. it’s about each person bringing skills and passion to a challenging and constantly evolving game.\",\n",
      "  \"location\": \"Beaverton, Oregon\",\n",
      "  \"company\": \"NIKE, Inc.\",\n",
      "  \"skills\": [\n",
      "    \"Python\",\n",
      "    \"JavaScript\",\n",
      "    \"Angular\",\n",
      "    \"React\",\n",
      "    \"Athena\",\n",
      "    \"DynamoDB\",\n",
      "    \"GraphQL\",\n",
      "    \"RESTful APIs\",\n",
      "    \"AWS\",\n",
      "    \"Azure\",\n",
      "    \"GCP\",\n",
      "    \"Terraform\",\n",
      "    \"CloudFormation\",\n",
      "    \"CircleCI\",\n",
      "    \"GitHub\",\n",
      "    \"Jenkins\",\n",
      "    \"GitHub Actions\"\n",
      "  ]\n",
      "}\n",
      "```\n"
     ]
    }
   ],
   "source": [
    "from langchain_core.prompts import PromptTemplate\n",
    "\n",
    "\n",
    "prompt_extract=PromptTemplate.from_template(\n",
    "    '''\n",
    "    ### SCRAPED TEXT FROM WEBSITE:\n",
    "    {page_data}\n",
    "    ### INSTRCTION:\n",
    "    The scrapped text is from the career's page of a website.\n",
    "    Your job is to extract the job postings and return them in a json format containing the\n",
    "    following keys: `title`, `minimum_qualifications`,`preffered_qualifications`,`about`,`location`,`company`,`skills`.\n",
    "    Only include the first data\n",
    "    Only return the valid JSON.\n",
    "    ### VALID JSON ONLY (NO PREAMBLE):\n",
    "    '''\n",
    "    \n",
    ")\n",
    "\n",
    "chain_extract=prompt_extract|llm\n",
    "\n",
    "res=chain_extract.invoke(input={'page_data':page})\n",
    "print(res.content)"
   ]
  },
  {
   "cell_type": "code",
   "execution_count": 22,
   "id": "cbf9305c-4742-4ad6-a0d7-624d86860ee9",
   "metadata": {},
   "outputs": [
    {
     "data": {
      "text/plain": [
       "{'title': 'Senior Software Engineer',\n",
       " 'minimum_qualifications': ['Bachelor’s degree in Computer Science or IT related discipline or any acceptable combination of relevant education, training, and experience',\n",
       "  'Strong abilities in Python (preferred) or similar object-oriented programming languages',\n",
       "  'Intermediate skills in JavaScript front end-web frameworks (e.g. Angular, React)',\n",
       "  'Knowledge of data structures and algorithms for efficiently and effectively managing large data sets',\n",
       "  'Experience using serverless data warehouses (e.g. Athena) and NoSQL databases (e.g. DynamoDB)',\n",
       "  'Tangible experience creating, delivering, and documenting GraphQL and RESTful APIs',\n",
       "  'Cloud infrastructure development experience using public cloud providers, e.g., AWS (our preferred choice), Azure, GCP',\n",
       "  'Practical understanding of infrastructure-as-code technologies (e.g., Terraform, CloudFormation, CircleCI), continuous integration & deployment (CI/CD), source control (e.g. GitHub), and build automation (e.g. Jenkins, GitHub Actions)',\n",
       "  'Knowledge of Agile principles and Sprint Planning, including planning/backlog tools (e.g., JIRA)'],\n",
       " 'preferred_qualifications': ['Abilities to create elegant user experiences',\n",
       "  'Practical experience in cloud cost optimization techniques and best practices',\n",
       "  'Knowledge of cloud provider billing practices',\n",
       "  'A basic understanding of FinOps practices',\n",
       "  'Experience with big room planning processes such as Scaled Agile Framework (SAFe)'],\n",
       " 'about': 'NIKE, Inc. does more than outfit the world’s best athletes. It is a place to explore potential, obliterate boundaries and push out the edges of what can be. The company looks for people who can grow, think, dream and create. Its culture thrives by embracing diversity and rewarding imagination. The brand seeks achievers, leaders and visionaries. At NIKE, Inc. it’s about each person bringing skills and passion to a challenging and constantly evolving game.',\n",
       " 'location': 'Beaverton, Oregon',\n",
       " 'company': 'NIKE, Inc.',\n",
       " 'skills': ['Python',\n",
       "  'JavaScript',\n",
       "  'Angular',\n",
       "  'React',\n",
       "  'Athena',\n",
       "  'DynamoDB',\n",
       "  'GraphQL',\n",
       "  'RESTful APIs',\n",
       "  'AWS',\n",
       "  'Azure',\n",
       "  'GCP',\n",
       "  'Terraform',\n",
       "  'CloudFormation',\n",
       "  'CircleCI',\n",
       "  'GitHub',\n",
       "  'Jenkins',\n",
       "  'GitHub Actions']}"
      ]
     },
     "execution_count": 22,
     "metadata": {},
     "output_type": "execute_result"
    }
   ],
   "source": [
    "from langchain_core.output_parsers import JsonOutputParser\n",
    "\n",
    "json_parser=JsonOutputParser()\n",
    "json_res=json_parser.parse(res.content)\n",
    "json_res"
   ]
  },
  {
   "cell_type": "code",
   "execution_count": 23,
   "id": "9d10389b-b887-47b9-9177-a92a041e443b",
   "metadata": {},
   "outputs": [],
   "source": [
    "import pandas as pd\n",
    "\n",
    "df=pd.read_csv('my_portfolio.csv')"
   ]
  },
  {
   "cell_type": "code",
   "execution_count": 24,
   "id": "f07bfc32-1d44-4d9b-8fd4-71236919b5ff",
   "metadata": {},
   "outputs": [
    {
     "data": {
      "text/html": [
       "<div>\n",
       "<style scoped>\n",
       "    .dataframe tbody tr th:only-of-type {\n",
       "        vertical-align: middle;\n",
       "    }\n",
       "\n",
       "    .dataframe tbody tr th {\n",
       "        vertical-align: top;\n",
       "    }\n",
       "\n",
       "    .dataframe thead th {\n",
       "        text-align: right;\n",
       "    }\n",
       "</style>\n",
       "<table border=\"1\" class=\"dataframe\">\n",
       "  <thead>\n",
       "    <tr style=\"text-align: right;\">\n",
       "      <th></th>\n",
       "      <th>Techstack</th>\n",
       "      <th>Links</th>\n",
       "    </tr>\n",
       "  </thead>\n",
       "  <tbody>\n",
       "    <tr>\n",
       "      <th>0</th>\n",
       "      <td>React, Node.js, MongoDB</td>\n",
       "      <td>https://example.com/react-portfolio</td>\n",
       "    </tr>\n",
       "    <tr>\n",
       "      <th>1</th>\n",
       "      <td>Angular,.NET, SQL Server</td>\n",
       "      <td>https://example.com/angular-portfolio</td>\n",
       "    </tr>\n",
       "    <tr>\n",
       "      <th>2</th>\n",
       "      <td>Vue.js, Ruby on Rails, PostgreSQL</td>\n",
       "      <td>https://example.com/vue-portfolio</td>\n",
       "    </tr>\n",
       "    <tr>\n",
       "      <th>3</th>\n",
       "      <td>Python, Django, MySQL</td>\n",
       "      <td>https://example.com/python-portfolio</td>\n",
       "    </tr>\n",
       "    <tr>\n",
       "      <th>4</th>\n",
       "      <td>Java, Spring Boot, Oracle</td>\n",
       "      <td>https://example.com/java-portfolio</td>\n",
       "    </tr>\n",
       "    <tr>\n",
       "      <th>5</th>\n",
       "      <td>Flutter, Firebase, GraphQL</td>\n",
       "      <td>https://example.com/flutter-portfolio</td>\n",
       "    </tr>\n",
       "    <tr>\n",
       "      <th>6</th>\n",
       "      <td>WordPress, PHP, MySQL</td>\n",
       "      <td>https://example.com/wordpress-portfolio</td>\n",
       "    </tr>\n",
       "    <tr>\n",
       "      <th>7</th>\n",
       "      <td>Magento, PHP, MySQL</td>\n",
       "      <td>https://example.com/magento-portfolio</td>\n",
       "    </tr>\n",
       "    <tr>\n",
       "      <th>8</th>\n",
       "      <td>React Native, Node.js, MongoDB</td>\n",
       "      <td>https://example.com/react-native-portfolio</td>\n",
       "    </tr>\n",
       "    <tr>\n",
       "      <th>9</th>\n",
       "      <td>iOS, Swift, Core Data</td>\n",
       "      <td>https://example.com/ios-portfolio</td>\n",
       "    </tr>\n",
       "    <tr>\n",
       "      <th>10</th>\n",
       "      <td>Android, Java, Room Persistence</td>\n",
       "      <td>https://example.com/android-portfolio</td>\n",
       "    </tr>\n",
       "    <tr>\n",
       "      <th>11</th>\n",
       "      <td>Kotlin, Android, Firebase</td>\n",
       "      <td>https://example.com/kotlin-android-portfolio</td>\n",
       "    </tr>\n",
       "    <tr>\n",
       "      <th>12</th>\n",
       "      <td>Android TV, Kotlin, Android NDK</td>\n",
       "      <td>https://example.com/android-tv-portfolio</td>\n",
       "    </tr>\n",
       "    <tr>\n",
       "      <th>13</th>\n",
       "      <td>iOS, Swift, ARKit</td>\n",
       "      <td>https://example.com/ios-ar-portfolio</td>\n",
       "    </tr>\n",
       "    <tr>\n",
       "      <th>14</th>\n",
       "      <td>Cross-platform, Xamarin, Azure</td>\n",
       "      <td>https://example.com/xamarin-portfolio</td>\n",
       "    </tr>\n",
       "    <tr>\n",
       "      <th>15</th>\n",
       "      <td>Backend, Kotlin, Spring Boot</td>\n",
       "      <td>https://example.com/kotlin-backend-portfolio</td>\n",
       "    </tr>\n",
       "    <tr>\n",
       "      <th>16</th>\n",
       "      <td>Frontend, TypeScript, Angular</td>\n",
       "      <td>https://example.com/typescript-frontend-portfolio</td>\n",
       "    </tr>\n",
       "    <tr>\n",
       "      <th>17</th>\n",
       "      <td>Full-stack, JavaScript, Express.js</td>\n",
       "      <td>https://example.com/full-stack-js-portfolio</td>\n",
       "    </tr>\n",
       "    <tr>\n",
       "      <th>18</th>\n",
       "      <td>Machine Learning, Python, TensorFlow</td>\n",
       "      <td>https://example.com/ml-python-portfolio</td>\n",
       "    </tr>\n",
       "    <tr>\n",
       "      <th>19</th>\n",
       "      <td>DevOps, Jenkins, Docker</td>\n",
       "      <td>https://example.com/devops-portfolio</td>\n",
       "    </tr>\n",
       "  </tbody>\n",
       "</table>\n",
       "</div>"
      ],
      "text/plain": [
       "                               Techstack  \\\n",
       "0                React, Node.js, MongoDB   \n",
       "1               Angular,.NET, SQL Server   \n",
       "2      Vue.js, Ruby on Rails, PostgreSQL   \n",
       "3                  Python, Django, MySQL   \n",
       "4              Java, Spring Boot, Oracle   \n",
       "5             Flutter, Firebase, GraphQL   \n",
       "6                  WordPress, PHP, MySQL   \n",
       "7                    Magento, PHP, MySQL   \n",
       "8         React Native, Node.js, MongoDB   \n",
       "9                  iOS, Swift, Core Data   \n",
       "10       Android, Java, Room Persistence   \n",
       "11             Kotlin, Android, Firebase   \n",
       "12       Android TV, Kotlin, Android NDK   \n",
       "13                     iOS, Swift, ARKit   \n",
       "14        Cross-platform, Xamarin, Azure   \n",
       "15          Backend, Kotlin, Spring Boot   \n",
       "16         Frontend, TypeScript, Angular   \n",
       "17    Full-stack, JavaScript, Express.js   \n",
       "18  Machine Learning, Python, TensorFlow   \n",
       "19               DevOps, Jenkins, Docker   \n",
       "\n",
       "                                                Links  \n",
       "0                 https://example.com/react-portfolio  \n",
       "1               https://example.com/angular-portfolio  \n",
       "2                   https://example.com/vue-portfolio  \n",
       "3                https://example.com/python-portfolio  \n",
       "4                  https://example.com/java-portfolio  \n",
       "5               https://example.com/flutter-portfolio  \n",
       "6             https://example.com/wordpress-portfolio  \n",
       "7               https://example.com/magento-portfolio  \n",
       "8          https://example.com/react-native-portfolio  \n",
       "9                   https://example.com/ios-portfolio  \n",
       "10              https://example.com/android-portfolio  \n",
       "11       https://example.com/kotlin-android-portfolio  \n",
       "12           https://example.com/android-tv-portfolio  \n",
       "13               https://example.com/ios-ar-portfolio  \n",
       "14              https://example.com/xamarin-portfolio  \n",
       "15       https://example.com/kotlin-backend-portfolio  \n",
       "16  https://example.com/typescript-frontend-portfolio  \n",
       "17        https://example.com/full-stack-js-portfolio  \n",
       "18            https://example.com/ml-python-portfolio  \n",
       "19               https://example.com/devops-portfolio  "
      ]
     },
     "execution_count": 24,
     "metadata": {},
     "output_type": "execute_result"
    }
   ],
   "source": [
    "df"
   ]
  },
  {
   "cell_type": "code",
   "execution_count": 25,
   "id": "e2b4ed2e-e6e6-408d-9dac-6652833693f5",
   "metadata": {},
   "outputs": [],
   "source": [
    "import uuid\n",
    "import chromadb\n",
    "\n",
    "client=chromadb.PersistentClient('vectorstore')\n",
    "collection=client.get_or_create_collection(name='portfolio')\n",
    "\n",
    "if not collection.count():\n",
    "    for _,row in df.iterrows():\n",
    "        collection.add(documents=row['Techstack'],\n",
    "                       metadatas={'links':row['Links']},\n",
    "                       ids=[str(uuid.uuid4())]\n",
    "                      )\n",
    "\n"
   ]
  },
  {
   "cell_type": "code",
   "execution_count": 26,
   "id": "9e6bef5b-ebe8-4f22-be0a-f261b2ab2591",
   "metadata": {},
   "outputs": [
    {
     "data": {
      "text/plain": [
       "['Abilities to create elegant user experiences',\n",
       " 'Practical experience in cloud cost optimization techniques and best practices',\n",
       " 'Knowledge of cloud provider billing practices',\n",
       " 'A basic understanding of FinOps practices',\n",
       " 'Experience with big room planning processes such as Scaled Agile Framework (SAFe)']"
      ]
     },
     "execution_count": 26,
     "metadata": {},
     "output_type": "execute_result"
    }
   ],
   "source": [
    "job=json_res\n",
    "job['preferred_qualifications']"
   ]
  },
  {
   "cell_type": "code",
   "execution_count": 27,
   "id": "ef714b27-60fe-498b-8fac-5238aa34aa00",
   "metadata": {},
   "outputs": [
    {
     "data": {
      "text/plain": [
       "[[{'links': 'https://example.com/ml-python-portfolio'}],\n",
       " [{'links': 'https://example.com/full-stack-js-portfolio'}],\n",
       " [{'links': 'https://example.com/typescript-frontend-portfolio'}],\n",
       " [{'links': 'https://example.com/react-portfolio'}],\n",
       " [{'links': 'https://example.com/java-portfolio'}],\n",
       " [{'links': 'https://example.com/flutter-portfolio'}],\n",
       " [{'links': 'https://example.com/flutter-portfolio'}],\n",
       " [{'links': 'https://example.com/wordpress-portfolio'}],\n",
       " [{'links': 'https://example.com/ios-ar-portfolio'}],\n",
       " [{'links': 'https://example.com/xamarin-portfolio'}],\n",
       " [{'links': 'https://example.com/xamarin-portfolio'}],\n",
       " [{'links': 'https://example.com/devops-portfolio'}],\n",
       " [{'links': 'https://example.com/xamarin-portfolio'}],\n",
       " [{'links': 'https://example.com/magento-portfolio'}],\n",
       " [{'links': 'https://example.com/devops-portfolio'}],\n",
       " [{'links': 'https://example.com/devops-portfolio'}],\n",
       " [{'links': 'https://example.com/devops-portfolio'}]]"
      ]
     },
     "execution_count": 27,
     "metadata": {},
     "output_type": "execute_result"
    }
   ],
   "source": [
    "links=collection.query(query_texts=job['skills'],n_results=1).get('metadatas',[])\n",
    "links"
   ]
  },
  {
   "cell_type": "code",
   "execution_count": 28,
   "id": "d0549587-8ae2-4473-817e-864b6819816d",
   "metadata": {},
   "outputs": [
    {
     "name": "stdout",
     "output_type": "stream",
     "text": [
      "Subject: Expert Software Engineering Solutions for NIKE, Inc.\n",
      "\n",
      "Dear Hiring Manager,\n",
      "\n",
      "I came across the Senior Software Engineer position at NIKE, Inc. and was impressed by the company's commitment to innovation and excellence. As a Business Development Executive at AtliQ, I'd like to introduce our company as a potential partner in fulfilling your software engineering needs.\n",
      "\n",
      "At AtliQ, we specialize in providing AI and software consulting services that cater to the unique requirements of businesses like NIKE, Inc. Our team of experts has extensive experience in developing scalable, efficient, and cost-effective solutions that drive business growth.\n",
      "\n",
      "Our capabilities align perfectly with the requirements of the Senior Software Engineer position. We have expertise in:\n",
      "\n",
      "* Python and JavaScript development\n",
      "* Front-end web frameworks like Angular and React\n",
      "* Data structures and algorithms for managing large data sets\n",
      "* Serverless data warehouses like Athena and NoSQL databases like DynamoDB\n",
      "* GraphQL and RESTful APIs\n",
      "* Cloud infrastructure development using AWS, Azure, and GCP\n",
      "* Infrastructure-as-code technologies like Terraform, CloudFormation, and CircleCI\n",
      "* Agile principles and Sprint Planning\n",
      "\n",
      "Our portfolio showcases our expertise in:\n",
      "\n",
      "* Python development: https://example.com/ml-python-portfolio\n",
      "* Full-stack JavaScript development: https://example.com/full-stack-js-portfolio\n",
      "* React development: https://example.com/react-portfolio\n",
      "* DevOps: https://example.com/devops-portfolio\n",
      "\n",
      "We'd love to discuss how our expertise can help NIKE, Inc. achieve its goals. If you're interested in learning more about our services, I'd be happy to schedule a call to explore further.\n",
      "\n",
      "Best regards,\n",
      "\n",
      "Mohan\n",
      "Business Development Executive\n",
      "AtliQ\n",
      "[mohan@atliq.com](mailto:mohan@atliq.com)\n"
     ]
    }
   ],
   "source": [
    "prompt_email = PromptTemplate.from_template(\n",
    "        \"\"\"\n",
    "        ### JOB DESCRIPTION:\n",
    "        {job_description}\n",
    "        \n",
    "        ### INSTRUCTION:\n",
    "        You are Mohan, a business development executive at AtliQ. AtliQ is an AI & Software Consulting company dedicated to facilitating\n",
    "        the seamless integration of business processes through automated tools. \n",
    "        Over our experience, we have empowered numerous enterprises with tailored solutions, fostering scalability, \n",
    "        process optimization, cost reduction, and heightened overall efficiency. \n",
    "        Your job is to write a cold email to the client regarding the job mentioned above describing the capability of AtliQ \n",
    "        in fulfilling their needs.\n",
    "        Also add the most relevant ones from the following links to showcase Atliq's portfolio: {link_list}\n",
    "        Remember you are Mohan, BDE at AtliQ. \n",
    "        Do not provide a preamble.\n",
    "        ### EMAIL (NO PREAMBLE):\n",
    "        \n",
    "        \"\"\"\n",
    "        )\n",
    "\n",
    "chain_email = prompt_email | llm\n",
    "res = chain_email.invoke({\"job_description\": str(job), \"link_list\": links})\n",
    "print(res.content)"
   ]
  },
  {
   "cell_type": "code",
   "execution_count": null,
   "id": "f19428ed-d515-4412-b4bf-1653c28a9348",
   "metadata": {},
   "outputs": [],
   "source": []
  }
 ],
 "metadata": {
  "kernelspec": {
   "display_name": "Python 3 (ipykernel)",
   "language": "python",
   "name": "python3"
  },
  "language_info": {
   "codemirror_mode": {
    "name": "ipython",
    "version": 3
   },
   "file_extension": ".py",
   "mimetype": "text/x-python",
   "name": "python",
   "nbconvert_exporter": "python",
   "pygments_lexer": "ipython3",
   "version": "3.10.15"
  }
 },
 "nbformat": 4,
 "nbformat_minor": 5
}
